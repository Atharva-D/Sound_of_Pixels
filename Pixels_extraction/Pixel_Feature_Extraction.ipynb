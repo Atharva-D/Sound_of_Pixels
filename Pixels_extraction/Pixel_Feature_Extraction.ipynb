{
 "cells": [
  {
   "cell_type": "code",
   "execution_count": 1,
   "id": "d403a5e1",
   "metadata": {},
   "outputs": [],
   "source": [
    "import cv2\n",
    "import numpy as np\n",
    "from tensorflow.keras.applications import ResNet50\n",
    "from tensorflow.keras.models import Model\n",
    "from tensorflow.keras.layers import GlobalAveragePooling2D, Dense, Activation\n",
    "from tensorflow.keras.activations import sigmoid"
   ]
  },
  {
   "cell_type": "code",
   "execution_count": 3,
   "id": "788818f4",
   "metadata": {},
   "outputs": [],
   "source": [
    "# Load pre-trained ResNet model without top classification layer\n",
    "resnet = ResNet50(weights='imagenet', include_top=False, input_shape=(None, None, 3))\n",
    "\n",
    "# Add layers for global average pooling and sigmoid activation\n",
    "x = GlobalAveragePooling2D()(resnet.output)\n",
    "x = Dense(512, activation='relu')(x)\n",
    "x = Dense(11)(x)  # K is the desired number of output features\n",
    "x = Activation('sigmoid')(x)\n",
    "\n",
    "# Define the model\n",
    "model = Model(inputs=resnet.input, outputs=x)"
   ]
  },
  {
   "cell_type": "code",
   "execution_count": 4,
   "id": "f2ba25d8",
   "metadata": {},
   "outputs": [],
   "source": [
    "# Path to the video file\n",
    "video_path = r\"F:\\Sound_of_Pixels\\Dataset\\MUSIC_solo_videos\\flute\\14th Song-- D Gray-Man flute cover.mp4\"  # Replace with the path to your video file\n",
    "\n",
    "# Open the video file\n",
    "cap = cv2.VideoCapture(video_path)\n",
    "\n",
    "# Initialize an empty list to store per-frame features\n",
    "per_frame_features = []\n",
    "\n",
    "# Iterate over each frame of the video\n",
    "while True:\n",
    "    ret, frame = cap.read()\n",
    "    if not ret:\n",
    "        break\n",
    "    \n",
    "    # Preprocess frame (e.g., resize, normalize) as required\n",
    "    frame = cv2.resize(frame, (224, 224))  # Resize to match ResNet input size\n",
    "    frame = frame / 255.0  # Normalize pixel values\n",
    "    \n",
    "    # Extract features using ResNet model\n",
    "    features = model.predict(np.expand_dims(frame, axis=0))\n",
    "    \n",
    "    # Append the features to the list\n",
    "    per_frame_features.append(features)\n",
    "\n",
    "# Perform temporal pooling (e.g., average pooling) over the per-frame features\n",
    "pooled_features = np.mean(per_frame_features, axis=0)\n",
    "\n",
    "# Apply sigmoid activation to obtain visual features for each pixel\n",
    "visual_features = sigmoid(pooled_features)\n",
    "\n",
    "# Close the video file\n",
    "cap.release()\n",
    "\n",
    "# Visual features for each pixel are stored in the variable `visual_features`\n"
   ]
  },
  {
   "cell_type": "code",
   "execution_count": 5,
   "id": "335342bf",
   "metadata": {},
   "outputs": [
    {
     "name": "stdout",
     "output_type": "stream",
     "text": [
      "tf.Tensor(\n",
      "[[0.6057217  0.64887434 0.64728737 0.6704617  0.53219426 0.6707192\n",
      "  0.60998183 0.5842934  0.6718442  0.56825125 0.67055124]], shape=(1, 11), dtype=float32)\n"
     ]
    }
   ],
   "source": [
    "print(visual_features)"
   ]
  },
  {
   "cell_type": "code",
   "execution_count": null,
   "id": "86948ec7",
   "metadata": {},
   "outputs": [],
   "source": []
  }
 ],
 "metadata": {
  "kernelspec": {
   "display_name": "Python 3 (ipykernel)",
   "language": "python",
   "name": "python3"
  },
  "language_info": {
   "codemirror_mode": {
    "name": "ipython",
    "version": 3
   },
   "file_extension": ".py",
   "mimetype": "text/x-python",
   "name": "python",
   "nbconvert_exporter": "python",
   "pygments_lexer": "ipython3",
   "version": "3.9.7"
  }
 },
 "nbformat": 4,
 "nbformat_minor": 5
}
